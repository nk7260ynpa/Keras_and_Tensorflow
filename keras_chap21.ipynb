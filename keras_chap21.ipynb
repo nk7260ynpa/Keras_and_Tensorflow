{
 "cells": [
  {
   "cell_type": "code",
   "execution_count": 1,
   "metadata": {
    "collapsed": false
   },
   "outputs": [
    {
     "name": "stderr",
     "output_type": "stream",
     "text": [
      "C:\\Users\\User\\Anaconda3\\envs\\tensorflow-gpu\\lib\\site-packages\\h5py\\__init__.py:34: FutureWarning: Conversion of the second argument of issubdtype from `float` to `np.floating` is deprecated. In future, it will be treated as `np.float64 == np.dtype(float).type`.\n",
      "  from ._conv import register_converters as _register_converters\n"
     ]
    }
   ],
   "source": [
    "import time\n",
    "import tensorflow as tf"
   ]
  },
  {
   "cell_type": "code",
   "execution_count": 2,
   "metadata": {
    "collapsed": false
   },
   "outputs": [
    {
     "name": "stdout",
     "output_type": "stream",
     "text": [
      "result= -10581.414\n"
     ]
    }
   ],
   "source": [
    "size=500\n",
    "W = tf.random_normal([size, size],name='W')\n",
    "X = tf.random_normal([size, size],name='X')\n",
    "mul = tf.matmul(W, X,name='mul')\n",
    "sum_result = tf.reduce_sum(mul,name='sum')\n",
    "\n",
    "with tf.Session() as sess:\n",
    "    result = sess.run(sum_result)\n",
    "print('result=',result)    "
   ]
  },
  {
   "cell_type": "code",
   "execution_count": 3,
   "metadata": {
    "collapsed": true
   },
   "outputs": [],
   "source": [
    "size=500\n",
    "W = tf.random_normal([size, size],name='W')\n",
    "X = tf.random_normal([size, size],name='X')\n",
    "mul = tf.matmul(W, X,name='mul')\n",
    "sum_result = tf.reduce_sum(mul,name='sum')\n",
    "\n",
    "tfconfig=tf.ConfigProto(log_device_placement=True)\n",
    "with tf.Session(config=tfconfig) as sess:\n",
    "        result = sess.run(sum_result)"
   ]
  },
  {
   "cell_type": "code",
   "execution_count": 4,
   "metadata": {
    "collapsed": true
   },
   "outputs": [],
   "source": [
    "size=500\n",
    "with tf.device(\"/cpu:0\"):\n",
    "    W = tf.random_normal([size, size],name='W')\n",
    "    X = tf.random_normal([size, size],name='X')\n",
    "    mul = tf.matmul(W, X,name='mul')\n",
    "    sum_result = tf.reduce_sum(mul,name='sum')\n",
    "\n",
    "tfconfig=tf.ConfigProto(log_device_placement=True)\n",
    "with tf.Session(config=tfconfig) as sess:\n",
    "        result = sess.run(sum_result)"
   ]
  },
  {
   "cell_type": "code",
   "execution_count": 5,
   "metadata": {
    "collapsed": true
   },
   "outputs": [],
   "source": [
    "size=500\n",
    "with tf.device(\"/gpu:0\"):\n",
    "    W = tf.random_normal([size, size],name='W')\n",
    "    X = tf.random_normal([size, size],name='X')\n",
    "    mul = tf.matmul(W, X,name='mul')\n",
    "    sum_result = tf.reduce_sum(mul,name='sum')\n",
    "\n",
    "tfconfig=tf.ConfigProto(log_device_placement=True)\n",
    "with tf.Session(config=tfconfig) as sess:\n",
    "        result = sess.run(sum_result)"
   ]
  },
  {
   "cell_type": "code",
   "execution_count": 6,
   "metadata": {
    "collapsed": true
   },
   "outputs": [],
   "source": [
    "def performanceTest(device_name,size):\n",
    "    with tf.device(device_name):\n",
    "        W = tf.random_normal([size, size],name='W')\n",
    "        X = tf.random_normal([size, size],name='X')\n",
    "        mul = tf.matmul(W, X,name='mul')\n",
    "        sum_result = tf.reduce_sum(mul,name='sum')\n",
    "\n",
    "    startTime = time.time() \n",
    "    tfconfig=tf.ConfigProto(log_device_placement=True)\n",
    "    with tf.Session(config=tfconfig) as sess:\n",
    "        result = sess.run(sum_result)\n",
    "    takeTimes=time.time()  - startTime   \n",
    "    print(device_name,\" size=\",size,\"Time:\",takeTimes )\n",
    "    return takeTimes"
   ]
  },
  {
   "cell_type": "code",
   "execution_count": 7,
   "metadata": {
    "collapsed": false
   },
   "outputs": [
    {
     "name": "stdout",
     "output_type": "stream",
     "text": [
      "/gpu:0  size= 100 Time: 0.01454019546508789\n",
      "/cpu:0  size= 100 Time: 0.014507293701171875\n"
     ]
    }
   ],
   "source": [
    "g=performanceTest(\"/gpu:0\",100)\n",
    "c=performanceTest(\"/cpu:0\",100)"
   ]
  },
  {
   "cell_type": "code",
   "execution_count": 8,
   "metadata": {
    "collapsed": false
   },
   "outputs": [
    {
     "name": "stdout",
     "output_type": "stream",
     "text": [
      "/gpu:0  size= 200 Time: 0.0175478458404541\n",
      "/cpu:0  size= 200 Time: 0.01905226707458496\n"
     ]
    }
   ],
   "source": [
    "g=performanceTest(\"/gpu:0\",200)\n",
    "c=performanceTest(\"/cpu:0\",200)"
   ]
  },
  {
   "cell_type": "code",
   "execution_count": 9,
   "metadata": {
    "collapsed": false
   },
   "outputs": [
    {
     "name": "stdout",
     "output_type": "stream",
     "text": [
      "/gpu:0  size= 1000 Time: 0.021558284759521484\n",
      "/cpu:0  size= 1000 Time: 0.04588794708251953\n"
     ]
    }
   ],
   "source": [
    "g=performanceTest(\"/gpu:0\",1000)\n",
    "c=performanceTest(\"/cpu:0\",1000)"
   ]
  },
  {
   "cell_type": "code",
   "execution_count": 10,
   "metadata": {
    "collapsed": false
   },
   "outputs": [
    {
     "name": "stdout",
     "output_type": "stream",
     "text": [
      "/gpu:0  size= 5000 Time: 0.05966305732727051\n",
      "/cpu:0  size= 5000 Time: 1.735241413116455\n"
     ]
    }
   ],
   "source": [
    "g=performanceTest(\"/gpu:0\",5000)\n",
    "c=performanceTest(\"/cpu:0\",5000)"
   ]
  },
  {
   "cell_type": "code",
   "execution_count": 11,
   "metadata": {
    "collapsed": false
   },
   "outputs": [
    {
     "name": "stdout",
     "output_type": "stream",
     "text": [
      "/gpu:0  size= 0 Time: 0.02657175064086914\n",
      "/cpu:0  size= 0 Time: 0.025092363357543945\n",
      "--\n",
      "/gpu:0  size= 500 Time: 0.02708721160888672\n",
      "/cpu:0  size= 500 Time: 0.03360414505004883\n",
      "--\n",
      "/gpu:0  size= 1000 Time: 0.02958059310913086\n",
      "/cpu:0  size= 1000 Time: 0.058168649673461914\n",
      "--\n",
      "/gpu:0  size= 1500 Time: 0.035095930099487305\n",
      "/cpu:0  size= 1500 Time: 0.09978890419006348\n",
      "--\n",
      "/gpu:0  size= 2000 Time: 0.03810381889343262\n",
      "/cpu:0  size= 2000 Time: 0.18049287796020508\n",
      "--\n",
      "/gpu:0  size= 2500 Time: 0.04313182830810547\n",
      "/cpu:0  size= 2500 Time: 0.30132341384887695\n",
      "--\n",
      "/gpu:0  size= 3000 Time: 0.05219912528991699\n",
      "/cpu:0  size= 3000 Time: 0.4647703170776367\n",
      "--\n",
      "/gpu:0  size= 3500 Time: 0.06267142295837402\n",
      "/cpu:0  size= 3500 Time: 0.735508918762207\n",
      "--\n",
      "/gpu:0  size= 4000 Time: 0.07323956489562988\n",
      "/cpu:0  size= 4000 Time: 1.0268516540527344\n",
      "--\n",
      "/gpu:0  size= 4500 Time: 0.07871556282043457\n",
      "/cpu:0  size= 4500 Time: 1.3887948989868164\n",
      "--\n",
      "/gpu:0  size= 5000 Time: 0.09878039360046387\n",
      "/cpu:0  size= 5000 Time: 1.7998101711273193\n",
      "--\n"
     ]
    }
   ],
   "source": [
    "gpu_set=[];cpu_set=[];i_set=[]\n",
    "for i in range(0,5001,500):\n",
    "    g=performanceTest(\"/gpu:0\",i)\n",
    "    c=performanceTest(\"/cpu:0\",i)\n",
    "    gpu_set.append(g);cpu_set.append(c);i_set.append(i)\n",
    "    print(\"--\")"
   ]
  },
  {
   "cell_type": "code",
   "execution_count": 12,
   "metadata": {
    "collapsed": false
   },
   "outputs": [
    {
     "data": {
      "text/plain": [
       "<matplotlib.legend.Legend at 0x290ea2da940>"
      ]
     },
     "execution_count": 12,
     "metadata": {},
     "output_type": "execute_result"
    },
    {
     "data": {
      "image/png": "[encoded data removed]",
      "text/plain": [
       "<matplotlib.figure.Figure at 0x290ea215b38>"
      ]
     },
     "metadata": {},
     "output_type": "display_data"
    }
   ],
   "source": [
    "%matplotlib inline\n",
    "import matplotlib.pyplot as plt\n",
    "fig = plt.gcf()\n",
    "fig.set_size_inches(6,4)\n",
    "plt.plot(i_set, gpu_set, label = 'gpu')\n",
    "plt.plot(i_set, cpu_set, label = 'cpu')\n",
    "plt.legend()"
   ]
  },
  {
   "cell_type": "code",
   "execution_count": 13,
   "metadata": {
    "collapsed": false
   },
   "outputs": [
    {
     "name": "stdout",
     "output_type": "stream",
     "text": [
      "/gpu:0  size= 18000 Time: 2.145930528640747\n"
     ]
    }
   ],
   "source": [
    "g=performanceTest(\"/gpu:0\",18000)"
   ]
  },
  {
   "cell_type": "code",
   "execution_count": null,
   "metadata": {
    "collapsed": true
   },
   "outputs": [],
   "source": []
  }
 ],
 "metadata": {
  "anaconda-cloud": {},
  "kernelspec": {
   "display_name": "Python [default]",
   "language": "python",
   "name": "python3"
  },
  "language_info": {
   "codemirror_mode": {
    "name": "ipython",
    "version": 3
   },
   "file_extension": ".py",
   "mimetype": "text/x-python",
   "name": "python",
   "nbconvert_exporter": "python",
   "pygments_lexer": "ipython3",
   "version": "3.5.2"
  }
 },
 "nbformat": 4,
 "nbformat_minor": 1
}
